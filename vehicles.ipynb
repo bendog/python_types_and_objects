{
 "cells": [
  {
   "cell_type": "code",
   "execution_count": 363,
   "metadata": {},
   "outputs": [],
   "source": [
    "class Vehicle(object):\n",
    "    def __init__(self, name, colour):\n",
    "        self.name = name\n",
    "        self.colour = colour\n",
    "\n",
    "    class Crash(Exception):\n",
    "        pass\n",
    "\n",
    "    def __add__(self, value):\n",
    "        if isinstance(value, Vehicle):\n",
    "            raise self.Crash(f\"You ({self.name}) crashed into {value.name}\")\n",
    "        raise NotImplementedError\n",
    "\n",
    "    def __str__(self):\n",
    "        return f\"{self.colour} {self.name}\"\n"
   ]
  },
  {
   "cell_type": "code",
   "execution_count": 364,
   "metadata": {},
   "outputs": [],
   "source": [
    "class Car(Vehicle):\n",
    "    def __init__(self, name, colour, doors):\n",
    "        \"\"\" cars have doors \"\"\"\n",
    "        self.doors = int(doors)\n",
    "        super().__init__(name, colour)\n"
   ]
  },
  {
   "cell_type": "code",
   "execution_count": 365,
   "metadata": {},
   "outputs": [],
   "source": [
    "car_1 = Car(\"Hyundai i30\", \"blue\", 5)\n",
    "car_2 = Car(\"Fiat 500\", \"grey\", 3)"
   ]
  },
  {
   "cell_type": "code",
   "execution_count": 366,
   "metadata": {},
   "outputs": [],
   "source": [
    "# car_2 + car_1"
   ]
  },
  {
   "cell_type": "code",
   "execution_count": 367,
   "metadata": {},
   "outputs": [],
   "source": [
    "class Motorcycle(Vehicle):\n",
    "    # bikes don't have doors\n",
    "    pass"
   ]
  },
  {
   "cell_type": "code",
   "execution_count": 368,
   "metadata": {},
   "outputs": [],
   "source": [
    "bike_1 = Motorcycle(\"Kawasaki Ninja\", \"Green\")"
   ]
  },
  {
   "cell_type": "code",
   "execution_count": 369,
   "metadata": {},
   "outputs": [],
   "source": [
    "# car_1 + bike_1"
   ]
  },
  {
   "cell_type": "code",
   "execution_count": 370,
   "metadata": {},
   "outputs": [],
   "source": [
    "\n",
    "class Trailer(Vehicle):\n",
    "\n",
    "    can_carry = (Motorcycle,)\n",
    "\n",
    "    def __init__(self, name, colour):\n",
    "        self.contains = None\n",
    "        super().__init__(name, colour)\n",
    "\n",
    "    def __add__(self, value):\n",
    "        if type(value) in self.can_carry:\n",
    "            self.contains = value\n",
    "            print(f\"loaded {value.name}\")\n",
    "            return True\n",
    "        super().__add__(value)\n",
    "\n",
    "    def __str__(self):\n",
    "        if self.contains:\n",
    "            return f\"{self.colour} Trailer {self.name} containing {str(self.contains)}\"\n",
    "        return f\"{self.colour} Trailer {self.name}\"\n"
   ]
  },
  {
   "cell_type": "code",
   "execution_count": 371,
   "metadata": {},
   "outputs": [],
   "source": [
    "# bike_1 + 3"
   ]
  },
  {
   "cell_type": "code",
   "execution_count": 372,
   "metadata": {},
   "outputs": [],
   "source": [
    "tailer_1 = Trailer('rusty', 'rust')"
   ]
  },
  {
   "cell_type": "code",
   "execution_count": 373,
   "metadata": {},
   "outputs": [],
   "source": [
    "# tailer_1 + car_1"
   ]
  },
  {
   "cell_type": "code",
   "execution_count": 374,
   "metadata": {},
   "outputs": [],
   "source": [
    "trailer_1 = tailer_1"
   ]
  },
  {
   "cell_type": "code",
   "execution_count": 375,
   "metadata": {},
   "outputs": [
    {
     "output_type": "stream",
     "name": "stdout",
     "text": [
      "loaded Kawasaki Ninja\n"
     ]
    },
    {
     "output_type": "execute_result",
     "data": {
      "text/plain": [
       "True"
      ]
     },
     "metadata": {},
     "execution_count": 375
    }
   ],
   "source": [
    "trailer_1 + bike_1"
   ]
  },
  {
   "cell_type": "code",
   "execution_count": 376,
   "metadata": {},
   "outputs": [
    {
     "output_type": "execute_result",
     "data": {
      "text/plain": [
       "<__main__.Motorcycle at 0x111f3d130>"
      ]
     },
     "metadata": {},
     "execution_count": 376
    }
   ],
   "source": [
    "trailer_1.contains"
   ]
  },
  {
   "cell_type": "code",
   "execution_count": 377,
   "metadata": {},
   "outputs": [
    {
     "output_type": "execute_result",
     "data": {
      "text/plain": [
       "4596158768"
      ]
     },
     "metadata": {},
     "execution_count": 377
    }
   ],
   "source": [
    "id(bike_1)"
   ]
  },
  {
   "cell_type": "code",
   "execution_count": 378,
   "metadata": {},
   "outputs": [
    {
     "output_type": "execute_result",
     "data": {
      "text/plain": [
       "'Kawasaki Ninja'"
      ]
     },
     "metadata": {},
     "execution_count": 378
    }
   ],
   "source": [
    "trailer_1.contains.name"
   ]
  },
  {
   "cell_type": "code",
   "execution_count": 379,
   "metadata": {},
   "outputs": [],
   "source": [
    "class Truck(Car):\n",
    "\n",
    "    can_tow = (Trailer,)\n",
    "\n",
    "    def __init__(self, name, colour, doors):\n",
    "        \"\"\" cars have doors \"\"\"\n",
    "        self.towing = None\n",
    "        super().__init__(name, colour, doors)\n",
    "\n",
    "    def __add__(self, value):\n",
    "        if type(value) in self.can_tow:\n",
    "            if not self.towing:\n",
    "                self.towing = value\n",
    "                print(f\"hooked up {value.name}\")\n",
    "            else:\n",
    "                print(f\"already towing {self.towing.name}\")\n",
    "            return None\n",
    "        super().__add__(value)\n",
    "\n",
    "    def __str__(self):\n",
    "        if self.towing:\n",
    "            return f\"{self.colour} Truck {self.name} towing {str(self.towing)}\"\n",
    "        return f\"{self.colour} Truck {self.name}\"\n",
    "\n",
    "\n"
   ]
  },
  {
   "cell_type": "code",
   "execution_count": 380,
   "metadata": {},
   "outputs": [],
   "source": [
    "truck_1 = Truck('Dodge Ram', 'black', 4)"
   ]
  },
  {
   "cell_type": "code",
   "execution_count": 381,
   "metadata": {},
   "outputs": [
    {
     "output_type": "execute_result",
     "data": {
      "text/plain": [
       "<__main__.Truck at 0x112608e50>"
      ]
     },
     "metadata": {},
     "execution_count": 381
    }
   ],
   "source": [
    "truck_1"
   ]
  },
  {
   "cell_type": "code",
   "execution_count": 382,
   "metadata": {},
   "outputs": [
    {
     "output_type": "execute_result",
     "data": {
      "text/plain": [
       "'black Truck Dodge Ram'"
      ]
     },
     "metadata": {},
     "execution_count": 382
    }
   ],
   "source": [
    "str(truck_1)"
   ]
  },
  {
   "cell_type": "code",
   "execution_count": 383,
   "metadata": {},
   "outputs": [
    {
     "output_type": "stream",
     "name": "stdout",
     "text": [
      "hooked up rusty\n"
     ]
    }
   ],
   "source": [
    "truck_1 + trailer_1"
   ]
  },
  {
   "cell_type": "code",
   "execution_count": 384,
   "metadata": {},
   "outputs": [
    {
     "output_type": "execute_result",
     "data": {
      "text/plain": [
       "<__main__.Trailer at 0x11299bc10>"
      ]
     },
     "metadata": {},
     "execution_count": 384
    }
   ],
   "source": [
    "truck_1.towing"
   ]
  },
  {
   "cell_type": "code",
   "execution_count": 385,
   "metadata": {},
   "outputs": [
    {
     "output_type": "execute_result",
     "data": {
      "text/plain": [
       "'rusty'"
      ]
     },
     "metadata": {},
     "execution_count": 385
    }
   ],
   "source": [
    "truck_1.towing.name"
   ]
  },
  {
   "cell_type": "code",
   "execution_count": 386,
   "metadata": {},
   "outputs": [
    {
     "output_type": "execute_result",
     "data": {
      "text/plain": [
       "'Kawasaki Ninja'"
      ]
     },
     "metadata": {},
     "execution_count": 386
    }
   ],
   "source": [
    "truck_1.towing.contains.name"
   ]
  },
  {
   "cell_type": "code",
   "execution_count": 387,
   "metadata": {},
   "outputs": [
    {
     "output_type": "execute_result",
     "data": {
      "text/plain": [
       "['Crash',\n",
       " '__add__',\n",
       " '__class__',\n",
       " '__delattr__',\n",
       " '__dict__',\n",
       " '__dir__',\n",
       " '__doc__',\n",
       " '__eq__',\n",
       " '__format__',\n",
       " '__ge__',\n",
       " '__getattribute__',\n",
       " '__gt__',\n",
       " '__hash__',\n",
       " '__init__',\n",
       " '__init_subclass__',\n",
       " '__le__',\n",
       " '__lt__',\n",
       " '__module__',\n",
       " '__ne__',\n",
       " '__new__',\n",
       " '__reduce__',\n",
       " '__reduce_ex__',\n",
       " '__repr__',\n",
       " '__setattr__',\n",
       " '__sizeof__',\n",
       " '__str__',\n",
       " '__subclasshook__',\n",
       " '__weakref__',\n",
       " 'can_tow',\n",
       " 'colour',\n",
       " 'doors',\n",
       " 'name',\n",
       " 'towing']"
      ]
     },
     "metadata": {},
     "execution_count": 387
    }
   ],
   "source": [
    "dir(truck_1)"
   ]
  },
  {
   "cell_type": "code",
   "execution_count": 388,
   "metadata": {},
   "outputs": [
    {
     "output_type": "execute_result",
     "data": {
      "text/plain": [
       "(__main__.Car,)"
      ]
     },
     "metadata": {},
     "execution_count": 388
    }
   ],
   "source": [
    "type(truck_1).__bases__"
   ]
  },
  {
   "cell_type": "code",
   "execution_count": 389,
   "metadata": {},
   "outputs": [
    {
     "output_type": "execute_result",
     "data": {
      "text/plain": [
       "(__main__.Truck, __main__.Car, __main__.Vehicle, object)"
      ]
     },
     "metadata": {},
     "execution_count": 389
    }
   ],
   "source": [
    "type(truck_1).__mro__"
   ]
  },
  {
   "cell_type": "code",
   "execution_count": 390,
   "metadata": {},
   "outputs": [],
   "source": [
    "class Ship(Vehicle):\n",
    "    capacity = 1\n",
    "    def __init__(self, name, colour):\n",
    "        self.contains = []\n",
    "        self.afloat = True\n",
    "        super().__init__(name,colour)\n",
    "\n",
    "    class Sink(Exception):\n",
    "        pass\n",
    "\n",
    "    def __add__(self, value):\n",
    "        if not self.afloat:\n",
    "            raise ValueError(\"can not load item to sunken ship\")\n",
    "        if not isinstance(value, Vehicle):\n",
    "            raise ValueError(\"Not a vehicle\")\n",
    "        if len(self.contains) < self.capacity:\n",
    "            self.contains.append(value)\n",
    "            print(f\"loaded {value.name} onto {self.name}\")\n",
    "        else:\n",
    "            self.afloat = False\n",
    "            raise self.Sink(f\"you sunk my {str(self)}\")\n",
    "\n",
    "    @property\n",
    "    def inventory(self):\n",
    "        for idx, thing in enumerate(self.contains):\n",
    "            print(f\"slot {idx:<2} {str(thing)}\")\n",
    "        "
   ]
  },
  {
   "cell_type": "code",
   "execution_count": 391,
   "metadata": {},
   "outputs": [],
   "source": [
    "class Ferry(Ship):\n",
    "    # naval architect says it can carry 10\n",
    "    capacity = 10\n"
   ]
  },
  {
   "cell_type": "code",
   "execution_count": 392,
   "metadata": {},
   "outputs": [],
   "source": [
    "boaty_mc_boatface = Ferry(\"Boaty McBoatface\", \"Rainbow\")"
   ]
  },
  {
   "cell_type": "code",
   "execution_count": 393,
   "metadata": {},
   "outputs": [
    {
     "output_type": "execute_result",
     "data": {
      "text/plain": [
       "'Rainbow Boaty McBoatface'"
      ]
     },
     "metadata": {},
     "execution_count": 393
    }
   ],
   "source": [
    "str(boaty_mc_boatface)"
   ]
  },
  {
   "cell_type": "code",
   "execution_count": 394,
   "metadata": {},
   "outputs": [
    {
     "output_type": "stream",
     "name": "stdout",
     "text": [
      "loaded Dodge Ram onto Boaty McBoatface\n"
     ]
    }
   ],
   "source": [
    "boaty_mc_boatface + truck_1"
   ]
  },
  {
   "cell_type": "code",
   "execution_count": 395,
   "metadata": {},
   "outputs": [
    {
     "output_type": "execute_result",
     "data": {
      "text/plain": [
       "[<__main__.Truck at 0x112608e50>]"
      ]
     },
     "metadata": {},
     "execution_count": 395
    }
   ],
   "source": [
    "boaty_mc_boatface.contains"
   ]
  },
  {
   "cell_type": "code",
   "execution_count": 396,
   "metadata": {},
   "outputs": [
    {
     "output_type": "stream",
     "name": "stdout",
     "text": [
      "slot 0  black Truck Dodge Ram towing rust Trailer rusty containing Green Kawasaki Ninja\n"
     ]
    }
   ],
   "source": [
    "boaty_mc_boatface.inventory"
   ]
  },
  {
   "cell_type": "code",
   "execution_count": 397,
   "metadata": {},
   "outputs": [],
   "source": [
    "# boaty_mc_boatface + 5"
   ]
  },
  {
   "cell_type": "code",
   "execution_count": 398,
   "metadata": {},
   "outputs": [
    {
     "output_type": "execute_result",
     "data": {
      "text/plain": [
       "'Kawasaki Ninja'"
      ]
     },
     "metadata": {},
     "execution_count": 398
    }
   ],
   "source": [
    "boaty_mc_boatface.contains[0].towing.contains.name"
   ]
  },
  {
   "cell_type": "code",
   "execution_count": 399,
   "metadata": {},
   "outputs": [
    {
     "output_type": "execute_result",
     "data": {
      "text/plain": [
       "(__main__.Ferry, __main__.Ship, __main__.Vehicle, object)"
      ]
     },
     "metadata": {},
     "execution_count": 399
    }
   ],
   "source": [
    "type(boaty_mc_boatface).__mro__"
   ]
  },
  {
   "cell_type": "code",
   "execution_count": 400,
   "metadata": {},
   "outputs": [
    {
     "output_type": "execute_result",
     "data": {
      "text/plain": [
       "'Rainbow Boaty McBoatface'"
      ]
     },
     "metadata": {},
     "execution_count": 400
    }
   ],
   "source": [
    "str(boaty_mc_boatface)"
   ]
  },
  {
   "cell_type": "code",
   "execution_count": 401,
   "metadata": {},
   "outputs": [
    {
     "output_type": "execute_result",
     "data": {
      "text/plain": [
       "<bound method Vehicle.__str__ of <__main__.Ferry object at 0x11299bbe0>>"
      ]
     },
     "metadata": {},
     "execution_count": 401
    }
   ],
   "source": [
    "boaty_mc_boatface.__str__"
   ]
  },
  {
   "cell_type": "code",
   "execution_count": 402,
   "metadata": {},
   "outputs": [
    {
     "output_type": "execute_result",
     "data": {
      "text/plain": [
       "'Rainbow Boaty McBoatface'"
      ]
     },
     "metadata": {},
     "execution_count": 402
    }
   ],
   "source": [
    "boaty_mc_boatface.__str__()"
   ]
  },
  {
   "cell_type": "code",
   "execution_count": 403,
   "metadata": {},
   "outputs": [
    {
     "output_type": "execute_result",
     "data": {
      "text/plain": [
       "['Crash',\n",
       " 'Sink',\n",
       " '__add__',\n",
       " '__class__',\n",
       " '__delattr__',\n",
       " '__dict__',\n",
       " '__dir__',\n",
       " '__doc__',\n",
       " '__eq__',\n",
       " '__format__',\n",
       " '__ge__',\n",
       " '__getattribute__',\n",
       " '__gt__',\n",
       " '__hash__',\n",
       " '__init__',\n",
       " '__init_subclass__',\n",
       " '__le__',\n",
       " '__lt__',\n",
       " '__module__',\n",
       " '__ne__',\n",
       " '__new__',\n",
       " '__reduce__',\n",
       " '__reduce_ex__',\n",
       " '__repr__',\n",
       " '__setattr__',\n",
       " '__sizeof__',\n",
       " '__str__',\n",
       " '__subclasshook__',\n",
       " '__weakref__',\n",
       " 'afloat',\n",
       " 'capacity',\n",
       " 'colour',\n",
       " 'contains',\n",
       " 'inventory',\n",
       " 'name']"
      ]
     },
     "metadata": {},
     "execution_count": 403
    }
   ],
   "source": [
    "dir(boaty_mc_boatface)"
   ]
  },
  {
   "cell_type": "code",
   "execution_count": 404,
   "metadata": {},
   "outputs": [
    {
     "output_type": "stream",
     "name": "stdout",
     "text": [
      "loaded Generic Car onto Boaty McBoatface\nloaded Generic Car onto Boaty McBoatface\nloaded Generic Car onto Boaty McBoatface\nloaded Generic Car onto Boaty McBoatface\nloaded Generic Car onto Boaty McBoatface\nloaded Generic Car onto Boaty McBoatface\nloaded Generic Car onto Boaty McBoatface\nloaded Generic Car onto Boaty McBoatface\nloaded Generic Car onto Boaty McBoatface\n"
     ]
    },
    {
     "output_type": "error",
     "ename": "Sink",
     "evalue": "you sunk my Rainbow Boaty McBoatface",
     "traceback": [
      "\u001b[0;31m---------------------------------------------------------------------------\u001b[0m",
      "\u001b[0;31mSink\u001b[0m                                      Traceback (most recent call last)",
      "\u001b[0;32m<ipython-input-404-9343aa977b0a>\u001b[0m in \u001b[0;36m<module>\u001b[0;34m\u001b[0m\n\u001b[1;32m      1\u001b[0m \u001b[0;32mfor\u001b[0m \u001b[0mx\u001b[0m \u001b[0;32min\u001b[0m \u001b[0mrange\u001b[0m\u001b[0;34m(\u001b[0m\u001b[0;36m10\u001b[0m\u001b[0;34m)\u001b[0m\u001b[0;34m:\u001b[0m\u001b[0;34m\u001b[0m\u001b[0;34m\u001b[0m\u001b[0m\n\u001b[0;32m----> 2\u001b[0;31m     \u001b[0mboaty_mc_boatface\u001b[0m \u001b[0;34m+\u001b[0m \u001b[0mCar\u001b[0m\u001b[0;34m(\u001b[0m\u001b[0;34m'Generic Car'\u001b[0m\u001b[0;34m,\u001b[0m \u001b[0;34m\"vanilla\"\u001b[0m\u001b[0;34m,\u001b[0m \u001b[0;36m4\u001b[0m\u001b[0;34m)\u001b[0m\u001b[0;34m\u001b[0m\u001b[0;34m\u001b[0m\u001b[0m\n\u001b[0m",
      "\u001b[0;32m<ipython-input-390-2deee959bd76>\u001b[0m in \u001b[0;36m__add__\u001b[0;34m(self, value)\u001b[0m\n\u001b[1;32m     19\u001b[0m         \u001b[0;32melse\u001b[0m\u001b[0;34m:\u001b[0m\u001b[0;34m\u001b[0m\u001b[0;34m\u001b[0m\u001b[0m\n\u001b[1;32m     20\u001b[0m             \u001b[0mself\u001b[0m\u001b[0;34m.\u001b[0m\u001b[0mafloat\u001b[0m \u001b[0;34m=\u001b[0m \u001b[0;32mFalse\u001b[0m\u001b[0;34m\u001b[0m\u001b[0;34m\u001b[0m\u001b[0m\n\u001b[0;32m---> 21\u001b[0;31m             \u001b[0;32mraise\u001b[0m \u001b[0mself\u001b[0m\u001b[0;34m.\u001b[0m\u001b[0mSink\u001b[0m\u001b[0;34m(\u001b[0m\u001b[0;34mf\"you sunk my {str(self)}\"\u001b[0m\u001b[0;34m)\u001b[0m\u001b[0;34m\u001b[0m\u001b[0;34m\u001b[0m\u001b[0m\n\u001b[0m\u001b[1;32m     22\u001b[0m \u001b[0;34m\u001b[0m\u001b[0m\n\u001b[1;32m     23\u001b[0m     \u001b[0;34m@\u001b[0m\u001b[0mproperty\u001b[0m\u001b[0;34m\u001b[0m\u001b[0;34m\u001b[0m\u001b[0m\n",
      "\u001b[0;31mSink\u001b[0m: you sunk my Rainbow Boaty McBoatface"
     ]
    }
   ],
   "source": [
    "for x in range(10):\n",
    "    boaty_mc_boatface + Car('Generic Car', \"vanilla\", 4)"
   ]
  },
  {
   "cell_type": "code",
   "execution_count": 405,
   "metadata": {},
   "outputs": [
    {
     "output_type": "stream",
     "name": "stdout",
     "text": [
      "slot 0  black Truck Dodge Ram towing rust Trailer rusty containing Green Kawasaki Ninja\nslot 1  vanilla Generic Car\nslot 2  vanilla Generic Car\nslot 3  vanilla Generic Car\nslot 4  vanilla Generic Car\nslot 5  vanilla Generic Car\nslot 6  vanilla Generic Car\nslot 7  vanilla Generic Car\nslot 8  vanilla Generic Car\nslot 9  vanilla Generic Car\n"
     ]
    }
   ],
   "source": [
    "boaty_mc_boatface.inventory"
   ]
  },
  {
   "cell_type": "code",
   "execution_count": 406,
   "metadata": {},
   "outputs": [
    {
     "output_type": "error",
     "ename": "ValueError",
     "evalue": "can not load item to sunken ship",
     "traceback": [
      "\u001b[0;31m---------------------------------------------------------------------------\u001b[0m",
      "\u001b[0;31mValueError\u001b[0m                                Traceback (most recent call last)",
      "\u001b[0;32m<ipython-input-406-39197468cecf>\u001b[0m in \u001b[0;36m<module>\u001b[0;34m\u001b[0m\n\u001b[0;32m----> 1\u001b[0;31m \u001b[0mboaty_mc_boatface\u001b[0m \u001b[0;34m+\u001b[0m \u001b[0mcar_1\u001b[0m\u001b[0;34m\u001b[0m\u001b[0;34m\u001b[0m\u001b[0m\n\u001b[0m",
      "\u001b[0;32m<ipython-input-390-2deee959bd76>\u001b[0m in \u001b[0;36m__add__\u001b[0;34m(self, value)\u001b[0m\n\u001b[1;32m     11\u001b[0m     \u001b[0;32mdef\u001b[0m \u001b[0m__add__\u001b[0m\u001b[0;34m(\u001b[0m\u001b[0mself\u001b[0m\u001b[0;34m,\u001b[0m \u001b[0mvalue\u001b[0m\u001b[0;34m)\u001b[0m\u001b[0;34m:\u001b[0m\u001b[0;34m\u001b[0m\u001b[0;34m\u001b[0m\u001b[0m\n\u001b[1;32m     12\u001b[0m         \u001b[0;32mif\u001b[0m \u001b[0;32mnot\u001b[0m \u001b[0mself\u001b[0m\u001b[0;34m.\u001b[0m\u001b[0mafloat\u001b[0m\u001b[0;34m:\u001b[0m\u001b[0;34m\u001b[0m\u001b[0;34m\u001b[0m\u001b[0m\n\u001b[0;32m---> 13\u001b[0;31m             \u001b[0;32mraise\u001b[0m \u001b[0mValueError\u001b[0m\u001b[0;34m(\u001b[0m\u001b[0;34m\"can not load item to sunken ship\"\u001b[0m\u001b[0;34m)\u001b[0m\u001b[0;34m\u001b[0m\u001b[0;34m\u001b[0m\u001b[0m\n\u001b[0m\u001b[1;32m     14\u001b[0m         \u001b[0;32mif\u001b[0m \u001b[0;32mnot\u001b[0m \u001b[0misinstance\u001b[0m\u001b[0;34m(\u001b[0m\u001b[0mvalue\u001b[0m\u001b[0;34m,\u001b[0m \u001b[0mVehicle\u001b[0m\u001b[0;34m)\u001b[0m\u001b[0;34m:\u001b[0m\u001b[0;34m\u001b[0m\u001b[0;34m\u001b[0m\u001b[0m\n\u001b[1;32m     15\u001b[0m             \u001b[0;32mraise\u001b[0m \u001b[0mValueError\u001b[0m\u001b[0;34m(\u001b[0m\u001b[0;34m\"Not a vehicle\"\u001b[0m\u001b[0;34m)\u001b[0m\u001b[0;34m\u001b[0m\u001b[0;34m\u001b[0m\u001b[0m\n",
      "\u001b[0;31mValueError\u001b[0m: can not load item to sunken ship"
     ]
    }
   ],
   "source": [
    "boaty_mc_boatface + car_1"
   ]
  },
  {
   "cell_type": "code",
   "execution_count": null,
   "metadata": {},
   "outputs": [],
   "source": []
  }
 ],
 "metadata": {
  "kernelspec": {
   "display_name": "Python 3",
   "language": "python",
   "name": "python3"
  },
  "language_info": {
   "codemirror_mode": {
    "name": "ipython",
    "version": 3
   },
   "file_extension": ".py",
   "mimetype": "text/x-python",
   "name": "python",
   "nbconvert_exporter": "python",
   "pygments_lexer": "ipython3",
   "version": "3.9.0-final"
  }
 },
 "nbformat": 4,
 "nbformat_minor": 4
}
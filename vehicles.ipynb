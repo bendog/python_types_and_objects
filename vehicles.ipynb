{
 "cells": [
  {
   "cell_type": "markdown",
   "source": [
    "# Vehicle Example of using classes to build types in Python\n",
    "\n",
    "Using the example of different types of vehicles, we can explore how classes add *Constraint, Capability and Meaning* to our data.\n",
    "\n",
    "First lets create a Vehicle type with the *Capability* to have a name, a colour and cause crashes. \n",
    "We will also give this Vehicle the *Capability* to be added to other vehicles. \n",
    "At this point in time when a vehicle is added to another vehicle this will cause a crash\n",
    "\n",
    "We will also add a `__str__` method to return a string representation of this object"
   ],
   "metadata": {
    "collapsed": false
   }
  },
  {
   "cell_type": "code",
   "execution_count": null,
   "metadata": {
    "is_executing": true
   },
   "outputs": [],
   "source": [
    "class Vehicle(object):\n",
    "    def __init__(self, name, colour):\n",
    "        self.name = name\n",
    "        self.colour = colour\n",
    "\n",
    "    class Crash(Exception):\n",
    "        pass\n",
    "\n",
    "    def __add__(self, value):\n",
    "        if isinstance(value, Vehicle):\n",
    "            raise self.Crash(f\"You ({self.name}) crashed into another vehicle ({value.name})\")\n",
    "        raise NotImplementedError\n",
    "\n",
    "    def __str__(self):\n",
    "        return f\"{self.colour} {self.name}\"\n"
   ]
  },
  {
   "cell_type": "markdown",
   "source": [
    "## Extending our class with inheritance\n",
    "\n",
    "Now say we want to create a specific type of vehicle, a car. \n",
    "We can use our existing base to create a subclass which has all the *Capabilities and Constraints* of its parent, with extra options. \n",
    "This is called inheritance. \n",
    "\n",
    "in this case we will give the car the *Capability* of having a number of doors.\n"
   ],
   "metadata": {
    "collapsed": false
   }
  },
  {
   "cell_type": "code",
   "execution_count": null,
   "metadata": {
    "is_executing": true
   },
   "outputs": [],
   "source": [
    "class Car(Vehicle):\n",
    "    def __init__(self, name, colour, doors):\n",
    "        \"\"\" cars have doors \"\"\"\n",
    "        self.doors = int(doors)\n",
    "        super().__init__(name, colour)\n"
   ]
  },
  {
   "cell_type": "code",
   "execution_count": null,
   "metadata": {
    "is_executing": true
   },
   "outputs": [],
   "source": [
    "car_1 = Car(\"Hyundai i30\", \"blue\", 5)\n",
    "car_2 = Car(\"Fiat 500\", \"grey\", 3)"
   ]
  },
  {
   "cell_type": "markdown",
   "source": [
    "Now lets try and add these two cars together"
   ],
   "metadata": {
    "collapsed": false
   }
  },
  {
   "cell_type": "code",
   "execution_count": null,
   "metadata": {
    "is_executing": true
   },
   "outputs": [],
   "source": [
    "car_2 + car_1"
   ]
  },
  {
   "cell_type": "markdown",
   "source": [
    "Let's check the type of our instance (car_1)"
   ],
   "metadata": {
    "collapsed": false
   }
  },
  {
   "cell_type": "code",
   "execution_count": null,
   "metadata": {
    "is_executing": true
   },
   "outputs": [],
   "source": [
    "type(car_1)"
   ]
  },
  {
   "cell_type": "markdown",
   "source": [
    "## Further extension\n",
    "\n",
    "We can now create other types of vehicles. \n",
    "Let's create a Motorcycle class. We can't extend car, because the motorcycle isn't a type of car, it has no doors. \n",
    "It is however a type of vehicle, so let's extend our vehicle type again. "
   ],
   "metadata": {
    "collapsed": false
   }
  },
  {
   "cell_type": "code",
   "execution_count": null,
   "metadata": {
    "is_executing": true
   },
   "outputs": [],
   "source": [
    "class Motorcycle(Vehicle):\n",
    "    # bikes don't have doors\n",
    "    pass"
   ]
  },
  {
   "cell_type": "code",
   "execution_count": null,
   "metadata": {
    "is_executing": true
   },
   "outputs": [],
   "source": [
    "bike_1 = Motorcycle(\"Kawasaki Ninja\", \"Green\")"
   ]
  },
  {
   "cell_type": "code",
   "execution_count": null,
   "metadata": {
    "is_executing": true
   },
   "outputs": [],
   "source": [
    "car_1 + bike_1"
   ]
  },
  {
   "cell_type": "markdown",
   "source": [
    "## Overriding methods\n",
    "\n",
    "So it turns out that we can't add our Motorcycle to our car. \n",
    "However what if we could? \n",
    "Maybe if we had some other form of vehicle, in this case lets make a trailer. \n",
    "\n",
    "A trailer is a vehicle which will have the ability to contain certain things. \n",
    "We are going to give this vehicle the *Capability* to have things added to it, however we are also going to give it the *Constraint* of \"can_carry\" which is a list of classes which will be able to fit onto this trailer. \n",
    "To do this we are going to *Override* our __add__ method from the parent class, and we will add some code to deal with addition of items we can carry. \n",
    "This *Constraint* will help us keep our data clean, if we do not have the *Capability* to carry this type of object, we will use the `super()` command to revert back to the behaviour in the parent class."
   ],
   "metadata": {
    "collapsed": false
   }
  },
  {
   "cell_type": "code",
   "execution_count": null,
   "metadata": {
    "is_executing": true
   },
   "outputs": [],
   "source": [
    "class Trailer(Vehicle):\n",
    "\n",
    "    can_carry = (Motorcycle,)\n",
    "\n",
    "    def __init__(self, name, colour):\n",
    "        self.contains = None\n",
    "        super().__init__(name, colour)\n",
    "\n",
    "    def __add__(self, value):\n",
    "        if type(value) in self.can_carry:\n",
    "            self.contains = value\n",
    "            print(f\"loaded {value.name}\")\n",
    "            return True\n",
    "        super().__add__(value)\n",
    "\n",
    "    def __str__(self):\n",
    "        if self.contains:\n",
    "            return f\"{self.colour} Trailer {self.name} containing {str(self.contains)}\"\n",
    "        return f\"{self.colour} Trailer {self.name}\"\n"
   ]
  },
  {
   "cell_type": "code",
   "execution_count": null,
   "metadata": {
    "is_executing": true
   },
   "outputs": [],
   "source": [
    "bike_1 + 3"
   ]
  },
  {
   "cell_type": "code",
   "execution_count": null,
   "metadata": {
    "is_executing": true
   },
   "outputs": [],
   "source": [
    "tailer_1 = Trailer('rusty', 'rust')"
   ]
  },
  {
   "cell_type": "code",
   "execution_count": null,
   "metadata": {
    "is_executing": true
   },
   "outputs": [],
   "source": [
    "tailer_1 + car_1"
   ]
  },
  {
   "cell_type": "code",
   "execution_count": null,
   "metadata": {
    "is_executing": true
   },
   "outputs": [],
   "source": [
    "trailer_1 = tailer_1"
   ]
  },
  {
   "cell_type": "code",
   "execution_count": null,
   "metadata": {
    "is_executing": true
   },
   "outputs": [],
   "source": [
    "trailer_1 + bike_1"
   ]
  },
  {
   "cell_type": "code",
   "execution_count": null,
   "metadata": {
    "is_executing": true
   },
   "outputs": [],
   "source": [
    "trailer_1.contains"
   ]
  },
  {
   "cell_type": "code",
   "execution_count": null,
   "metadata": {
    "is_executing": true
   },
   "outputs": [],
   "source": [
    "id(bike_1)"
   ]
  },
  {
   "cell_type": "code",
   "execution_count": null,
   "metadata": {
    "is_executing": true
   },
   "outputs": [],
   "source": [
    "trailer_1.contains.name"
   ]
  },
  {
   "cell_type": "markdown",
   "source": [
    "## Grandchildren\n",
    "\n",
    "We don't always need to go back to the base to extend and inherit from, we can do it from anywhere. \n",
    "Lets say we want to create a truck. A truck is a type of car, it has the same *Constraints* as a car, but with some extra *Capabilities* such as the ability to tow. \n",
    "Let's create a Truck by extending the Car class. \n",
    "We will give it the ability to tow. \n",
    "We will record what it is towing by creating an attribute called `towing` to store the object it tows in.\n",
    "We will use `super()` again to use all of the inherited init commands from the Car parent class. \n",
    "We will *Override* the parent class `__add__` method to allow for hooking up an oject it `can_tow`, however we will pass any unmatched object back to the parent class to handle. \n",
    "\n",
    "We will also update the `__str__` method to print not just the colour and name, but also what is being towed, if something is being towed. "
   ],
   "metadata": {
    "collapsed": false
   }
  },
  {
   "cell_type": "code",
   "execution_count": null,
   "metadata": {
    "is_executing": true
   },
   "outputs": [],
   "source": [
    "class Truck(Car):\n",
    "\n",
    "    can_tow = (Trailer,)\n",
    "\n",
    "    def __init__(self, name, colour, doors):\n",
    "        \"\"\" cars have doors \"\"\"\n",
    "        self.towing = None\n",
    "        super().__init__(name, colour, doors)\n",
    "\n",
    "    def __add__(self, value):\n",
    "        if type(value) in self.can_tow:\n",
    "            if not self.towing:\n",
    "                self.towing = value\n",
    "                print(f\"hooked up {value.name}\")\n",
    "            else:\n",
    "                print(f\"already towing {self.towing.name}\")\n",
    "            return None\n",
    "        super().__add__(value)\n",
    "\n",
    "    def __str__(self):\n",
    "        return f\"{self.colour} Truck {self.name} towing {str(self.towing)}\"\n",
    "\n"
   ]
  },
  {
   "cell_type": "code",
   "execution_count": null,
   "metadata": {
    "is_executing": true
   },
   "outputs": [],
   "source": [
    "truck_1 = Truck('Dodge Ram', 'black', 4)"
   ]
  },
  {
   "cell_type": "code",
   "execution_count": null,
   "metadata": {
    "is_executing": true
   },
   "outputs": [],
   "source": [
    "truck_1"
   ]
  },
  {
   "cell_type": "code",
   "execution_count": null,
   "metadata": {
    "is_executing": true
   },
   "outputs": [],
   "source": [
    "str(truck_1)"
   ]
  },
  {
   "cell_type": "code",
   "execution_count": null,
   "metadata": {
    "is_executing": true
   },
   "outputs": [],
   "source": [
    "truck_1 + trailer_1"
   ]
  },
  {
   "cell_type": "code",
   "execution_count": null,
   "metadata": {
    "is_executing": true
   },
   "outputs": [],
   "source": [
    "truck_1.towing"
   ]
  },
  {
   "cell_type": "code",
   "execution_count": null,
   "metadata": {
    "is_executing": true
   },
   "outputs": [],
   "source": [
    "str(truck_1.towing)"
   ]
  },
  {
   "cell_type": "code",
   "execution_count": null,
   "metadata": {
    "is_executing": true
   },
   "outputs": [],
   "source": [
    "str(truck_1.towing.contains)"
   ]
  },
  {
   "cell_type": "code",
   "execution_count": null,
   "metadata": {
    "is_executing": true
   },
   "outputs": [],
   "source": [
    "truck_1.towing.name"
   ]
  },
  {
   "cell_type": "code",
   "execution_count": null,
   "metadata": {
    "is_executing": true
   },
   "outputs": [],
   "source": [
    "truck_1.towing.contains.name"
   ]
  },
  {
   "cell_type": "code",
   "execution_count": null,
   "metadata": {
    "is_executing": true
   },
   "outputs": [],
   "source": [
    "dir(truck_1)"
   ]
  },
  {
   "cell_type": "code",
   "execution_count": null,
   "metadata": {
    "is_executing": true
   },
   "outputs": [],
   "source": [
    "type(truck_1).__bases__"
   ]
  },
  {
   "cell_type": "code",
   "execution_count": null,
   "metadata": {
    "is_executing": true
   },
   "outputs": [],
   "source": [
    "type(truck_1).__mro__"
   ]
  },
  {
   "cell_type": "markdown",
   "source": [
    "## Not ever vehicle goes on the road\n",
    "\n",
    "Lets mix things up by creating a different type of vehicle. \n",
    "Let's create a ship.\n",
    "\n",
    "We are going to give our ship the *Capability* to contain multiple objects, for this we will add a `contains` attribute which will be a list.\n",
    "We will also give our Ship the *Capability* of being `afloat` which we will default to `True`\n",
    "We will also give our Ship the *Constraint* of having a capacity, as different ships will have different capacities. \n",
    "To allow us to remove items from the ship to not meat this *Constraint* we will need the *Capability* of being able to subtract objects from the vehicle, to do this we will *Override* the `__sub__` method. \n",
    "\n",
    "For fun we will also give our ship a `Sink` exception. \n",
    "If we put too many objects on this ship, the ship will set `afloat` to `False` and then raise the `Sink` exception.\n",
    "\n",
    "We can also give the ship the ability to be floated, for fun we will *Override* the `float()` function in python by using the `__float__` method. \n",
    "Normally this is reserved for numbers, but in python it doesn't matter if something is a number or not, what matters is what *Capability* and *Constraint* it has, as python cares about **WHAT the data can do** more than it cares about **What the data actually is** this is the magic of *Duck Typing* "
   ],
   "metadata": {
    "collapsed": false
   }
  },
  {
   "cell_type": "code",
   "execution_count": null,
   "metadata": {
    "is_executing": true
   },
   "outputs": [],
   "source": [
    "class Ship(Vehicle):\n",
    "    capacity = 1\n",
    "    def __init__(self, name, colour):\n",
    "        self.contains = []\n",
    "        self.afloat = True\n",
    "        super().__init__(name,colour)\n",
    "\n",
    "    class Sink(Exception):\n",
    "        pass\n",
    "\n",
    "    def __add__(self, value):\n",
    "        if not self.afloat:\n",
    "            raise ValueError(\"can not load item to sunken ship\")\n",
    "        if not isinstance(value, Vehicle):\n",
    "            raise ValueError(\"Not a vehicle\")\n",
    "        if len(self.contains) < self.capacity:\n",
    "            self.contains.append(value)\n",
    "            print(f\"loaded {value.name} onto {self.name}\")\n",
    "        else:\n",
    "            self.afloat = False\n",
    "            raise self.Sink(f\"you sunk my {str(self)}\")\n",
    "            \n",
    "    def __sub__(self, idx):\n",
    "        \"\"\" remove a thing from the ship\"\"\"\n",
    "        x = self.contains.pop(idx)\n",
    "        print(f\"removed {x.name} from {self.name}\")\n",
    "        \n",
    "    def __float__(self):\n",
    "        self.afloat = True\n",
    "        print(f\"floated {self.name}\")\n",
    "        return float(0)\n",
    "        \n",
    "    @property\n",
    "    def inventory(self):\n",
    "        for idx, thing in enumerate(self.contains):\n",
    "            print(f\"slot {idx:<2} {str(thing)}\")\n",
    "        "
   ]
  },
  {
   "cell_type": "markdown",
   "source": [
    "### A ship that can carry one thing is boring\n",
    "\n",
    "So lets create a bigger ship. \n",
    "Lets create a *Type* of vehicle called a Ferry, which is able to carry many more vehicles."
   ],
   "metadata": {
    "collapsed": false
   }
  },
  {
   "cell_type": "code",
   "execution_count": null,
   "metadata": {
    "is_executing": true
   },
   "outputs": [],
   "source": [
    "class Ferry(Ship):\n",
    "    # naval architect says it can carry 10\n",
    "    capacity = 10\n"
   ]
  },
  {
   "cell_type": "code",
   "execution_count": null,
   "metadata": {
    "is_executing": true
   },
   "outputs": [],
   "source": [
    "boaty_mc_boatface = Ferry(\"Boaty McBoatface\", \"Rainbow\")"
   ]
  },
  {
   "cell_type": "code",
   "execution_count": null,
   "metadata": {
    "is_executing": true
   },
   "outputs": [],
   "source": [
    "str(boaty_mc_boatface)"
   ]
  },
  {
   "cell_type": "code",
   "execution_count": null,
   "metadata": {
    "is_executing": true
   },
   "outputs": [],
   "source": [
    "boaty_mc_boatface + truck_1"
   ]
  },
  {
   "cell_type": "code",
   "execution_count": null,
   "metadata": {
    "is_executing": true
   },
   "outputs": [],
   "source": [
    "boaty_mc_boatface.contains"
   ]
  },
  {
   "cell_type": "code",
   "execution_count": null,
   "metadata": {
    "is_executing": true
   },
   "outputs": [],
   "source": [
    "boaty_mc_boatface.inventory"
   ]
  },
  {
   "cell_type": "code",
   "execution_count": null,
   "metadata": {
    "is_executing": true
   },
   "outputs": [],
   "source": [
    "boaty_mc_boatface + 5"
   ]
  },
  {
   "cell_type": "code",
   "execution_count": null,
   "metadata": {
    "is_executing": true
   },
   "outputs": [],
   "source": [
    "boaty_mc_boatface.contains[0].towing.contains.name"
   ]
  },
  {
   "cell_type": "code",
   "execution_count": null,
   "metadata": {
    "is_executing": true
   },
   "outputs": [],
   "source": [
    "# show the Method Resolution Order\n",
    "type(boaty_mc_boatface).__mro__"
   ]
  },
  {
   "cell_type": "code",
   "execution_count": null,
   "metadata": {
    "is_executing": true
   },
   "outputs": [],
   "source": [
    "str(boaty_mc_boatface)"
   ]
  },
  {
   "cell_type": "code",
   "execution_count": null,
   "metadata": {
    "is_executing": true
   },
   "outputs": [],
   "source": [
    "boaty_mc_boatface.__str__"
   ]
  },
  {
   "cell_type": "code",
   "execution_count": null,
   "metadata": {
    "is_executing": true
   },
   "outputs": [],
   "source": [
    "boaty_mc_boatface.__str__()"
   ]
  },
  {
   "cell_type": "code",
   "execution_count": null,
   "metadata": {
    "is_executing": true
   },
   "outputs": [],
   "source": [
    "#  attempt to return a list of valid attributes for that object\n",
    "dir(boaty_mc_boatface)"
   ]
  },
  {
   "cell_type": "code",
   "execution_count": null,
   "metadata": {
    "is_executing": true
   },
   "outputs": [],
   "source": [
    "for x in range(10):\n",
    "    boaty_mc_boatface + Car('Generic Car', \"vanilla\", 4)"
   ]
  },
  {
   "cell_type": "code",
   "execution_count": null,
   "metadata": {
    "is_executing": true
   },
   "outputs": [],
   "source": [
    "boaty_mc_boatface.inventory"
   ]
  },
  {
   "cell_type": "code",
   "execution_count": null,
   "metadata": {
    "is_executing": true
   },
   "outputs": [],
   "source": [
    "boaty_mc_boatface + car_1"
   ]
  },
  {
   "cell_type": "code",
   "execution_count": null,
   "metadata": {
    "is_executing": true
   },
   "outputs": [],
   "source": [
    "boaty_mc_boatface.afloat"
   ]
  },
  {
   "cell_type": "code",
   "execution_count": null,
   "metadata": {
    "is_executing": true
   },
   "outputs": [],
   "source": [
    "boaty_mc_boatface - 9"
   ]
  },
  {
   "cell_type": "code",
   "execution_count": null,
   "metadata": {
    "is_executing": true
   },
   "outputs": [],
   "source": [
    "boaty_mc_boatface.afloat"
   ]
  },
  {
   "cell_type": "code",
   "execution_count": null,
   "metadata": {
    "is_executing": true
   },
   "outputs": [],
   "source": [
    "boaty_mc_boatface == 1"
   ]
  },
  {
   "cell_type": "code",
   "execution_count": null,
   "metadata": {
    "is_executing": true
   },
   "outputs": [],
   "source": [
    "float(boaty_mc_boatface)"
   ]
  },
  {
   "cell_type": "code",
   "execution_count": null,
   "metadata": {
    "is_executing": true
   },
   "outputs": [],
   "source": [
    "str(boaty_mc_boatface)"
   ]
  },
  {
   "cell_type": "code",
   "execution_count": null,
   "metadata": {
    "is_executing": true
   },
   "outputs": [],
   "source": [
    "boaty_mc_boatface.contains"
   ]
  },
  {
   "cell_type": "code",
   "execution_count": null,
   "metadata": {
    "is_executing": true
   },
   "outputs": [],
   "source": []
  }
 ],
 "metadata": {
  "kernelspec": {
   "display_name": "Python 3 (ipykernel)",
   "language": "python",
   "name": "python3"
  },
  "language_info": {
   "codemirror_mode": {
    "name": "ipython",
    "version": 3
   },
   "file_extension": ".py",
   "mimetype": "text/x-python",
   "name": "python",
   "nbconvert_exporter": "python",
   "pygments_lexer": "ipython3",
   "version": "3.11.6"
  }
 },
 "nbformat": 4,
 "nbformat_minor": 4
}
